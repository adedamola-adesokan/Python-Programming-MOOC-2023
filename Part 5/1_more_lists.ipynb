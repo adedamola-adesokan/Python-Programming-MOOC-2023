{
 "cells": [
  {
   "cell_type": "markdown",
   "metadata": {},
   "source": [
    "Please write a function named longest(strings: list), which takes a list of strings as its argument. The function finds and returns the longest string in the list. You may assume there is always a single longest string in the list."
   ]
  },
  {
   "cell_type": "code",
   "execution_count": 1,
   "metadata": {},
   "outputs": [
    {
     "name": "stdout",
     "output_type": "stream",
     "text": [
      "howdydoody\n",
      "second\n"
     ]
    }
   ],
   "source": [
    "# Write your solution here\n",
    "\n",
    "def longest(strings: list):\n",
    "    # longest_item = len(strings[0])\n",
    "    longest_item = 0\n",
    "    for item in strings:\n",
    "        # print(item)\n",
    "        # print(len(item))\n",
    "        # print(type(item))\n",
    "        if len(item) > longest_item:\n",
    "            longest_item = len(item)\n",
    "            longest = item\n",
    "\n",
    "    return longest\n",
    "\n",
    "\n",
    "if __name__ == \"__main__\":\n",
    "    strings = [\"hi\", \"hiya\", \"hello\", \"howdydoody\", \"hi there\"]\n",
    "    print(longest(strings))\n",
    "    strings = ['first', 'second', 'third']\n",
    "    print(longest(strings))\n"
   ]
  },
  {
   "cell_type": "markdown",
   "metadata": {},
   "source": [
    "Please write a function named count_matching_elements(my_matrix: list, element: int), which takes a two-dimensional array of integers and a single integer value as its arguments. The function then counts how many elements within the matrix match the argument value."
   ]
  },
  {
   "cell_type": "code",
   "execution_count": 2,
   "metadata": {},
   "outputs": [
    {
     "name": "stdout",
     "output_type": "stream",
     "text": [
      "3\n"
     ]
    }
   ],
   "source": [
    "# Write your solution here\n",
    "\n",
    "def count_matching_elements(my_matrix: list, element: int):\n",
    "    count = 0\n",
    "\n",
    "    for row in my_matrix:\n",
    "        for column in row:\n",
    "            if column == element:\n",
    "                count += 1\n",
    "\n",
    "    return count\n",
    "\n",
    "\n",
    "if __name__ == \"__main__\":\n",
    "    m = [[1, 2, 1], [0, 3, 4], [1, 0, 0]]\n",
    "    print(count_matching_elements(m, 1))\n"
   ]
  },
  {
   "cell_type": "markdown",
   "metadata": {},
   "source": [
    "In a game of Go two players take turns to place black and white stones on a game board. The winner is the player who manages to encircle a bigger area on the board with their own game pieces.\n",
    "\n",
    "Please write a function named who_won(game_board: list), which takes a two-dimensional array as its argument. The array consists of integer values, which represent the following situations:\n",
    "\n",
    "0: empty square\n",
    "1: player 1 game piece\n",
    "2: player 2 game piece\n",
    "The scoring rules of Go can be quite complex, but in this exercise it is enough to compare the number of pieces each player has on the game board. Also, the size of the game board is not limited.\n",
    "\n",
    "The function should return the value 1 if player 1 won, and the value 2 if player 2 won. If both players have the same number of pieces on the board, the function should return the value 0."
   ]
  },
  {
   "cell_type": "code",
   "execution_count": 3,
   "metadata": {},
   "outputs": [],
   "source": [
    "# Write your solution here\n",
    "\n",
    "def who_won(game_board: list):\n",
    "    count_0 = 0\n",
    "    count_1 = 0\n",
    "    count_2 = 0\n",
    "\n",
    "    for row in game_board:\n",
    "        for column in row:\n",
    "            if column == 0:\n",
    "                count_0 += 1\n",
    "            elif column == 1:\n",
    "                count_1 += 1\n",
    "            elif column == 2:\n",
    "                count_2 += 1\n",
    "\n",
    "    if count_2 > count_1:\n",
    "        return 2\n",
    "    elif count_1 > count_2:\n",
    "        return 1\n",
    "    else:\n",
    "        return 0\n"
   ]
  },
  {
   "cell_type": "markdown",
   "metadata": {},
   "source": [
    "Please write a function named row_correct(sudoku: list, row_no: int), which takes a two-dimensional array representing a sudoku grid, and an integer referring to a single row, as its arguments. Rows are indexed from 0.\n",
    "\n",
    "The function should return True or False, depending on whether the row is filled in correctly, that is, whether it contains each of the numbers 1 to 9 at most once."
   ]
  },
  {
   "cell_type": "code",
   "execution_count": 4,
   "metadata": {},
   "outputs": [
    {
     "name": "stdout",
     "output_type": "stream",
     "text": [
      "True\n",
      "False\n",
      "False\n",
      "True\n",
      "False\n",
      "True\n",
      "False\n",
      "False\n",
      "True\n"
     ]
    }
   ],
   "source": [
    "# Write your solution here\n",
    "\n",
    "def row_correct(sudoku: list, row_no: int):\n",
    "\n",
    "    count_true = 0\n",
    "    count_false = 0\n",
    "    new_list = sudoku[row_no]\n",
    "    item_count = []\n",
    "    for item in new_list:\n",
    "        item_count.append(new_list.count(item))\n",
    "\n",
    "    for i in range(len(new_list)):\n",
    "        if new_list[i] > 0 and item_count[i] == 1:\n",
    "            return True\n",
    "\n",
    "        else:\n",
    "            return False\n",
    "\n",
    "    # return item_count\n",
    "    # for item in new_list:\n",
    "    #     if item > 0 and new_list.count(item) == 1:\n",
    "    #         count_true += 1\n",
    "\n",
    "    # if count_true > 1:\n",
    "    #     return \"True\"\n",
    "    # else:\n",
    "    #     return \"False\"\n",
    "\n",
    "\n",
    "if __name__ == \"__main__\":\n",
    "    sudoku = [\n",
    "        [9, 0, 0, 0, 8, 0, 3, 0, 0],   # rivi 0\n",
    "        [2, 0, 0, 2, 5, 0, 7, 0, 0],   # rivi 1\n",
    "        [0, 2, 0, 3, 0, 0, 0, 0, 4],   # rivi 2\n",
    "        [2, 9, 4, 0, 0, 0, 0, 0, 0],   # rivi 3\n",
    "        [0, 0, 0, 7, 3, 0, 5, 6, 0],   # rivi 4\n",
    "        [7, 0, 5, 0, 6, 0, 4, 0, 0],   # rivi 5\n",
    "        [0, 0, 7, 8, 0, 3, 9, 0, 0],   # rivi 6\n",
    "        [0, 0, 1, 0, 0, 0, 0, 0, 3],   # rivi 7\n",
    "        [3, 0, 0, 0, 0, 0, 0, 0, 2],   # rivi 8\n",
    "    ]\n",
    "\n",
    "    print(row_correct(sudoku, 0))\n",
    "    print(row_correct(sudoku, 1))\n",
    "    print(row_correct(sudoku, 2))\n",
    "    print(row_correct(sudoku, 3))\n",
    "    print(row_correct(sudoku, 4))\n",
    "    print(row_correct(sudoku, 5))\n",
    "    print(row_correct(sudoku, 6))\n",
    "    print(row_correct(sudoku, 7))\n",
    "    print(row_correct(sudoku, 8))\n",
    "    # print(row_correct(sudoku, 9))\n",
    "\n",
    "    # sudoku = [\n",
    "    #     [9, 0, 0, 0, 8, 0, 3, 0, 0],   # rivi 0\n",
    "    #     [2, 2, 0, 0, 5, 0, 7, 0, 0],   # rivi 1\n",
    "    #     [0, 2, 0, 3, 0, 0, 4, 0, 4],   # rivi 2\n",
    "    #     [2, 9, 4, 0, 0, 0, 0, 0, 0],   # rivi 3\n",
    "    #     [0, 0, 0, 7, 3, 0, 5, 6, 0],   # rivi 4\n",
    "    #     [7, 0, 5, 0, 6, 0, 4, 0, 0],   # rivi 5\n",
    "    #     [0, 0, 7, 8, 0, 3, 9, 6, 6],   # rivi 6\n",
    "    #     [3, 0, 1, 0, 0, 0, 0, 0, 3],   # rivi 7\n",
    "    #     [3, 0, 0, 0, 2, 0, 2, 0, 1],   # rivi 8\n",
    "    # ]\n",
    "    # print(row_correct(sudoku, 4))\n"
   ]
  },
  {
   "cell_type": "markdown",
   "metadata": {},
   "source": [
    "Please write a function named column_correct(sudoku: list, column_no: int), which takes a two-dimensional array representing a sudoku grid, and an integer referring to a single column, as its arguments. Columns are indexed from 0.\n",
    "\n",
    "The function should return True or False, depending on whether the column is filled in correctly, that is, whether it contains each of the numbers 1 to 9 at most once."
   ]
  },
  {
   "cell_type": "code",
   "execution_count": 5,
   "metadata": {},
   "outputs": [
    {
     "name": "stdout",
     "output_type": "stream",
     "text": [
      "False\n",
      "True\n"
     ]
    }
   ],
   "source": [
    "# Write your solution here\n",
    "\n",
    "def column_correct(sudoku: list, column_no: int):\n",
    "    column = []\n",
    "    for row in sudoku:\n",
    "        column.append(row[column_no])\n",
    "    values = []\n",
    "    for item in column:\n",
    "        if item > 0:\n",
    "            values.append(item)\n",
    "    unique = set(values)\n",
    "\n",
    "    if len(unique) == len(values):\n",
    "        return True\n",
    "    else:\n",
    "        return False\n",
    "\n",
    "    # print(column)\n",
    "\n",
    "\n",
    "if __name__ == \"__main__\":\n",
    "    sudoku = [\n",
    "        [9, 0, 0, 0, 8, 0, 3, 0, 0],\n",
    "        [2, 0, 0, 2, 5, 0, 7, 0, 0],\n",
    "        [0, 2, 0, 3, 0, 0, 0, 0, 4],\n",
    "        [2, 9, 4, 0, 0, 0, 0, 0, 0],\n",
    "        [0, 0, 0, 7, 3, 0, 5, 6, 0],\n",
    "        [7, 0, 5, 0, 6, 0, 4, 0, 0],\n",
    "        [0, 0, 7, 8, 0, 3, 9, 0, 0],\n",
    "        [0, 0, 1, 0, 0, 0, 0, 0, 3],\n",
    "        [3, 0, 0, 0, 0, 0, 0, 0, 2]\n",
    "    ]\n",
    "\n",
    "    print(column_correct(sudoku, 0))\n",
    "    print(column_correct(sudoku, 1))\n"
   ]
  },
  {
   "cell_type": "markdown",
   "metadata": {},
   "source": [
    "Please write a function named block_correct(sudoku: list, row_no: int, column_no: int), which takes a two-dimensional array representing a sudoku grid, and two integers referring to the row and column indexes of a single square, as its arguments. Rows and columns are indexed from 0.\n",
    "\n",
    "The function should return True or False depending on whether the 3 by 3 block to the right and down from the given indexes is filled in correctly. That is, whether the block contains each of the numbers 1 to 9 at most once.\n",
    "\n",
    "Notice that this function does not strictly follow the rules of sudoku. In a real game of sudoku there are only 9 blocks to check, and these are located at indexes (0, 0), (0, 3), (0, 6), (3, 0), (3, 3), (3, 6), (6, 0), (6, 3) and (6, 6). Such restrictions on indexes should not be implemented here."
   ]
  },
  {
   "cell_type": "code",
   "execution_count": null,
   "metadata": {},
   "outputs": [],
   "source": []
  },
  {
   "cell_type": "markdown",
   "metadata": {},
   "source": [
    "Please write a function named sudoku_grid_correct(sudoku: list), which takes a two-dimensional array representing a sudoku grid as its argument. The function should use the functions from the three previous exercises to determine whether the complete sudoku grid is filled in correctly. Copy the functions from the exercises above into your Python code file for this exercise.\n",
    "\n",
    "The function should check each of the nine rows, columns and 3 by 3 blocks in the grid. If all contain each of the numbers 1 to 9 at most once, the function returns True. If a single one is filled in incorrectly, the function returns False.\n",
    "\n",
    "The image of a sudoku grid above these exercises has the nine blocks within the grid indicated with thicker borders. These are the blocks the function should check, and they begin at the indexes (0, 0), (0, 3), (0, 6), (3, 0), (3, 3), (3, 6), (6, 0), (6, 3) and (6, 6)."
   ]
  },
  {
   "cell_type": "code",
   "execution_count": null,
   "metadata": {},
   "outputs": [],
   "source": []
  }
 ],
 "metadata": {
  "kernelspec": {
   "display_name": "Python 3",
   "language": "python",
   "name": "python3"
  },
  "language_info": {
   "codemirror_mode": {
    "name": "ipython",
    "version": 3
   },
   "file_extension": ".py",
   "mimetype": "text/x-python",
   "name": "python",
   "nbconvert_exporter": "python",
   "pygments_lexer": "ipython3",
   "version": "3.7.13"
  },
  "orig_nbformat": 4
 },
 "nbformat": 4,
 "nbformat_minor": 2
}
